{
 "cells": [
  {
   "cell_type": "code",
   "execution_count": 7,
   "id": "b330c80f",
   "metadata": {},
   "outputs": [
    {
     "name": "stdout",
     "output_type": "stream",
     "text": [
      "Requirement already satisfied: PyPDF2 in c:\\users\\saif\\appdata\\local\\programs\\python\\python310\\lib\\site-packages (3.0.1)\n"
     ]
    },
    {
     "name": "stderr",
     "output_type": "stream",
     "text": [
      "WARNING: Ignoring invalid distribution -pencv-python-headless (c:\\users\\saif\\appdata\\local\\programs\\python\\python310\\lib\\site-packages)\n",
      "WARNING: Ignoring invalid distribution -pencv-python-headless (c:\\users\\saif\\appdata\\local\\programs\\python\\python310\\lib\\site-packages)\n",
      "WARNING: Ignoring invalid distribution -pencv-python-headless (c:\\users\\saif\\appdata\\local\\programs\\python\\python310\\lib\\site-packages)\n",
      "WARNING: Ignoring invalid distribution -pencv-python-headless (c:\\users\\saif\\appdata\\local\\programs\\python\\python310\\lib\\site-packages)\n",
      "WARNING: Ignoring invalid distribution -pencv-python-headless (c:\\users\\saif\\appdata\\local\\programs\\python\\python310\\lib\\site-packages)\n",
      "WARNING: Ignoring invalid distribution -pencv-python-headless (c:\\users\\saif\\appdata\\local\\programs\\python\\python310\\lib\\site-packages)\n"
     ]
    }
   ],
   "source": [
    "# !pip install PyPDF2\n",
    "# !pip install Pyttsx3"
   ]
  },
  {
   "cell_type": "code",
   "execution_count": 26,
   "id": "91b251d6",
   "metadata": {},
   "outputs": [],
   "source": [
    "import PyPDF2\n",
    "import pyttsx3\n",
    "import sys"
   ]
  },
  {
   "cell_type": "code",
   "execution_count": 13,
   "id": "ddb1678a",
   "metadata": {},
   "outputs": [],
   "source": [
    "# Read Specific PDF file\n",
    "pdfReader = PyPDF2.PdfReader(open('./Assets/files/poem.pdf', 'rb'))"
   ]
  },
  {
   "cell_type": "code",
   "execution_count": 14,
   "id": "c4732d03",
   "metadata": {},
   "outputs": [],
   "source": [
    "speaker = pyttsx3.init()"
   ]
  },
  {
   "cell_type": "code",
   "execution_count": 22,
   "id": "c37c7fa0",
   "metadata": {},
   "outputs": [],
   "source": [
    "# Split Pages\n",
    "for page_num in range(len(pdfReader.pages)):\n",
    "    text = pdfReader.pages[page_num].extract_text()\n",
    "    speaker.say(text)\n",
    "    speaker.runAndWait()"
   ]
  },
  {
   "cell_type": "code",
   "execution_count": 23,
   "id": "3ee540ab",
   "metadata": {},
   "outputs": [],
   "source": [
    "# Stop Speaker\n",
    "speaker.stop()"
   ]
  },
  {
   "cell_type": "code",
   "execution_count": 28,
   "id": "56d9a306",
   "metadata": {},
   "outputs": [],
   "source": [
    "engine = pyttsx3.init()"
   ]
  },
  {
   "cell_type": "code",
   "execution_count": 29,
   "id": "77b01cfa",
   "metadata": {},
   "outputs": [],
   "source": [
    "# Save Audio Book\n",
    "engine.save_to_file(text, './Assets/files/poem.mp3')\n",
    "engine.runAndWait()"
   ]
  },
  {
   "cell_type": "code",
   "execution_count": null,
   "id": "e3c387e0",
   "metadata": {},
   "outputs": [],
   "source": []
  }
 ],
 "metadata": {
  "kernelspec": {
   "display_name": "Python 3 (ipykernel)",
   "language": "python",
   "name": "python3"
  },
  "language_info": {
   "codemirror_mode": {
    "name": "ipython",
    "version": 3
   },
   "file_extension": ".py",
   "mimetype": "text/x-python",
   "name": "python",
   "nbconvert_exporter": "python",
   "pygments_lexer": "ipython3",
   "version": "3.10.1"
  }
 },
 "nbformat": 4,
 "nbformat_minor": 5
}
