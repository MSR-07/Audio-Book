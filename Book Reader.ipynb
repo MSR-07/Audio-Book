{
 "cells": [
  {
   "cell_type": "code",
   "execution_count": null,
   "id": "ff6f98da",
   "metadata": {},
   "outputs": [],
   "source": [
    "# !pip install PyPDF2\n",
    "# !pip install Pyttsx3"
   ]
  },
  {
   "cell_type": "code",
   "execution_count": null,
   "id": "0e8cd124",
   "metadata": {},
   "outputs": [],
   "source": [
    "import PyPDF2\n",
    "import pyttsx3\n",
    "import sys"
   ]
  },
  {
   "cell_type": "code",
   "execution_count": null,
   "id": "e2cdb1be",
   "metadata": {},
   "outputs": [],
   "source": [
    "# Read Specific PDF file\n",
    "pdfReader = PyPDF2.PdfReader(open('./Assets/files/poem.pdf', 'rb'))"
   ]
  },
  {
   "cell_type": "code",
   "execution_count": null,
   "id": "899a008f",
   "metadata": {},
   "outputs": [],
   "source": [
    "speaker = pyttsx3.init()"
   ]
  },
  {
   "cell_type": "code",
   "execution_count": null,
   "id": "0607723d",
   "metadata": {},
   "outputs": [],
   "source": [
    "# Split Pages\n",
    "for page_num in range(len(pdfReader.pages)):\n",
    "    text = pdfReader.pages[page_num].extract_text()\n",
    "    speaker.say(text)\n",
    "    speaker.runAndWait()"
   ]
  },
  {
   "cell_type": "code",
   "execution_count": null,
   "id": "eb99ebee",
   "metadata": {},
   "outputs": [],
   "source": [
    "# Stop Speaker\n",
    "speaker.stop()"
   ]
  },
  {
   "cell_type": "code",
   "execution_count": null,
   "id": "3b6f82cb",
   "metadata": {},
   "outputs": [],
   "source": [
    "engine = pyttsx3.init()"
   ]
  },
  {
   "cell_type": "code",
   "execution_count": null,
   "id": "b5239eba",
   "metadata": {},
   "outputs": [],
   "source": [
    "# Save Audio Book\n",
    "engine.save_to_file(text, './Assets/files/poem.mp3')\n",
    "engine.runAndWait()"
   ]
  },
  {
   "cell_type": "code",
   "execution_count": null,
   "id": "e6a3c5f3",
   "metadata": {},
   "outputs": [],
   "source": []
  }
 ],
 "metadata": {
  "kernelspec": {
   "display_name": "Python 3 (ipykernel)",
   "language": "python",
   "name": "python3"
  },
  "language_info": {
   "codemirror_mode": {
    "name": "ipython",
    "version": 3
   },
   "file_extension": ".py",
   "mimetype": "text/x-python",
   "name": "python",
   "nbconvert_exporter": "python",
   "pygments_lexer": "ipython3",
   "version": "3.10.1"
  }
 },
 "nbformat": 4,
 "nbformat_minor": 5
}
